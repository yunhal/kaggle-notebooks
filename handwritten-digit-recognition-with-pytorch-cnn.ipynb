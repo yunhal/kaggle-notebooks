{
 "cells": [
  {
   "cell_type": "code",
   "execution_count": 1,
   "id": "3019f062",
   "metadata": {
    "_cell_guid": "b1076dfc-b9ad-4769-8c92-a6c4dae69d19",
    "_uuid": "8f2839f25d086af736a60e9eeb907d3b93b6e0e5",
    "execution": {
     "iopub.execute_input": "2023-11-02T15:22:18.864775Z",
     "iopub.status.busy": "2023-11-02T15:22:18.864265Z",
     "iopub.status.idle": "2023-11-02T15:22:25.799873Z",
     "shell.execute_reply": "2023-11-02T15:22:25.798411Z"
    },
    "papermill": {
     "duration": 6.948645,
     "end_time": "2023-11-02T15:22:25.803351",
     "exception": false,
     "start_time": "2023-11-02T15:22:18.854706",
     "status": "completed"
    },
    "tags": []
   },
   "outputs": [],
   "source": [
    "import torch\n",
    "import torch.nn as nn\n",
    "import torch.optim as optim\n",
    "from torch.utils.data import Dataset, DataLoader, random_split\n",
    "import torchvision\n",
    "from torchvision import transforms\n",
    "from PIL import Image\n",
    "\n",
    "from sklearn.model_selection import train_test_split\n",
    "from sklearn.metrics import mean_squared_error\n",
    "\n",
    "from sklearn import preprocessing\n",
    "\n",
    "import numpy as np\n",
    "\n",
    "import pandas as pd\n",
    "import matplotlib.pyplot as plt\n",
    "import seaborn as sns\n",
    "\n",
    "%matplotlib inline"
   ]
  },
  {
   "cell_type": "markdown",
   "id": "b3d56669",
   "metadata": {
    "papermill": {
     "duration": 0.005868,
     "end_time": "2023-11-02T15:22:25.818081",
     "exception": false,
     "start_time": "2023-11-02T15:22:25.812213",
     "status": "completed"
    },
    "tags": []
   },
   "source": [
    "# Step 1: Load Data and Prepare it for Pytorch "
   ]
  },
  {
   "cell_type": "code",
   "execution_count": 2,
   "id": "7c49f53d",
   "metadata": {
    "execution": {
     "iopub.execute_input": "2023-11-02T15:22:25.832508Z",
     "iopub.status.busy": "2023-11-02T15:22:25.831866Z",
     "iopub.status.idle": "2023-11-02T15:22:30.425283Z",
     "shell.execute_reply": "2023-11-02T15:22:30.423232Z"
    },
    "papermill": {
     "duration": 4.604472,
     "end_time": "2023-11-02T15:22:30.428673",
     "exception": false,
     "start_time": "2023-11-02T15:22:25.824201",
     "status": "completed"
    },
    "tags": []
   },
   "outputs": [
    {
     "name": "stdout",
     "output_type": "stream",
     "text": [
      "   label  pixel0  pixel1  pixel2  pixel3  pixel4  pixel5  pixel6  pixel7  \\\n",
      "0      1       0       0       0       0       0       0       0       0   \n",
      "1      0       0       0       0       0       0       0       0       0   \n",
      "2      1       0       0       0       0       0       0       0       0   \n",
      "\n",
      "   pixel8  ...  pixel774  pixel775  pixel776  pixel777  pixel778  pixel779  \\\n",
      "0       0  ...         0         0         0         0         0         0   \n",
      "1       0  ...         0         0         0         0         0         0   \n",
      "2       0  ...         0         0         0         0         0         0   \n",
      "\n",
      "   pixel780  pixel781  pixel782  pixel783  \n",
      "0         0         0         0         0  \n",
      "1         0         0         0         0  \n",
      "2         0         0         0         0  \n",
      "\n",
      "[3 rows x 785 columns]\n",
      "(42000, 785)\n"
     ]
    }
   ],
   "source": [
    "train_data_path = \"../input/digit-recognizer/train.csv\"\n",
    "train_df = pd.read_csv(train_data_path)\n",
    "\n",
    "print(train_df.head(3))\n",
    "\n",
    "print(train_df.shape)\n"
   ]
  },
  {
   "cell_type": "code",
   "execution_count": 3,
   "id": "04f5c2ac",
   "metadata": {
    "execution": {
     "iopub.execute_input": "2023-11-02T15:22:30.444899Z",
     "iopub.status.busy": "2023-11-02T15:22:30.444389Z",
     "iopub.status.idle": "2023-11-02T15:22:30.638005Z",
     "shell.execute_reply": "2023-11-02T15:22:30.636204Z"
    },
    "papermill": {
     "duration": 0.205176,
     "end_time": "2023-11-02T15:22:30.641129",
     "exception": false,
     "start_time": "2023-11-02T15:22:30.435953",
     "status": "completed"
    },
    "tags": []
   },
   "outputs": [
    {
     "name": "stdout",
     "output_type": "stream",
     "text": [
      "       pixel0  pixel1  pixel2  pixel3  pixel4  pixel5  pixel6  pixel7  pixel8  \\\n",
      "0           0       0       0       0       0       0       0       0       0   \n",
      "1           0       0       0       0       0       0       0       0       0   \n",
      "2           0       0       0       0       0       0       0       0       0   \n",
      "3           0       0       0       0       0       0       0       0       0   \n",
      "4           0       0       0       0       0       0       0       0       0   \n",
      "...       ...     ...     ...     ...     ...     ...     ...     ...     ...   \n",
      "41995       0       0       0       0       0       0       0       0       0   \n",
      "41996       0       0       0       0       0       0       0       0       0   \n",
      "41997       0       0       0       0       0       0       0       0       0   \n",
      "41998       0       0       0       0       0       0       0       0       0   \n",
      "41999       0       0       0       0       0       0       0       0       0   \n",
      "\n",
      "       pixel9  ...  pixel774  pixel775  pixel776  pixel777  pixel778  \\\n",
      "0           0  ...         0         0         0         0         0   \n",
      "1           0  ...         0         0         0         0         0   \n",
      "2           0  ...         0         0         0         0         0   \n",
      "3           0  ...         0         0         0         0         0   \n",
      "4           0  ...         0         0         0         0         0   \n",
      "...       ...  ...       ...       ...       ...       ...       ...   \n",
      "41995       0  ...         0         0         0         0         0   \n",
      "41996       0  ...         0         0         0         0         0   \n",
      "41997       0  ...         0         0         0         0         0   \n",
      "41998       0  ...         0         0         0         0         0   \n",
      "41999       0  ...         0         0         0         0         0   \n",
      "\n",
      "       pixel779  pixel780  pixel781  pixel782  pixel783  \n",
      "0             0         0         0         0         0  \n",
      "1             0         0         0         0         0  \n",
      "2             0         0         0         0         0  \n",
      "3             0         0         0         0         0  \n",
      "4             0         0         0         0         0  \n",
      "...         ...       ...       ...       ...       ...  \n",
      "41995         0         0         0         0         0  \n",
      "41996         0         0         0         0         0  \n",
      "41997         0         0         0         0         0  \n",
      "41998         0         0         0         0         0  \n",
      "41999         0         0         0         0         0  \n",
      "\n",
      "[42000 rows x 784 columns]\n"
     ]
    }
   ],
   "source": [
    "print(train_df.loc[:, train_df.columns != 'label'])"
   ]
  },
  {
   "cell_type": "code",
   "execution_count": 4,
   "id": "c7f2ad95",
   "metadata": {
    "execution": {
     "iopub.execute_input": "2023-11-02T15:22:30.658393Z",
     "iopub.status.busy": "2023-11-02T15:22:30.657059Z",
     "iopub.status.idle": "2023-11-02T15:22:31.064072Z",
     "shell.execute_reply": "2023-11-02T15:22:31.062728Z"
    },
    "papermill": {
     "duration": 0.419779,
     "end_time": "2023-11-02T15:22:31.068056",
     "exception": false,
     "start_time": "2023-11-02T15:22:30.648277",
     "status": "completed"
    },
    "tags": []
   },
   "outputs": [
    {
     "name": "stdout",
     "output_type": "stream",
     "text": [
      "<class 'numpy.ndarray'> (42000, 784) (42000,)\n",
      "29399 6300 6301\n"
     ]
    }
   ],
   "source": [
    "class CustomDataset(Dataset):\n",
    "    def __init__(self, images, labels, transform = None):\n",
    "        self.images = images\n",
    "        self.labels = labels\n",
    "        self.transform = transform\n",
    "        \n",
    "    def __len__(self):\n",
    "        return len(self.images)\n",
    "    \n",
    "    def __getitem__(self, index):\n",
    "        # reshape the input image (which is flattened array) to 2D (28x28)\n",
    "        image = self.images[index].reshape(28,28)\n",
    "        label = self.labels[index]\n",
    "        \n",
    "        # convert numpy image to PIL (pyrhon imaging lib) image (for transforms)\n",
    "        # Note that the image data ranges [0,1] but it is scaled to [0, 255], which \n",
    "        # is the standard representation for grayscale pixel values: \n",
    "        # 0 black, 255 white, and values in between for varying shades of gray.\n",
    "        image = Image.fromarray( (image * 255).astype('uint8'))\n",
    "        \n",
    "        if self.transform:\n",
    "            image = self.transform(image)\n",
    "            \n",
    "        return image, label\n",
    "\n",
    "\n",
    "transform = transforms.Compose([\n",
    "    transforms.Resize((28,28)),\n",
    "    transforms.Grayscale(num_output_channels = 1),\n",
    "    transforms.ToTensor(),\n",
    "    transforms.Normalize((0.5,),(0.5,))\n",
    "])\n",
    "\n",
    "train_images = np.array(train_df.loc[:, train_df.columns != 'label'])\n",
    "train_labels = np.array( train_df['label'])\n",
    "\n",
    "print(type(train_images), train_images.shape, train_labels.shape)\n",
    "\n",
    "dataset = CustomDataset(train_images,train_labels, transform = transform)\n",
    "\n",
    "# split the data\n",
    "train_len = int(0.7 * len(dataset))\n",
    "val_len = int(0.15 * len(dataset))\n",
    "test_len = len(dataset) - train_len - val_len\n",
    "\n",
    "print(train_len, val_len, test_len)\n",
    "\n",
    "train_dataset, val_dataset, test_dataset = random_split(dataset, [train_len, val_len, test_len] )\n",
    "train_loader = DataLoader(train_dataset, batch_size = 64, shuffle = True)\n",
    "val_loader = DataLoader(val_dataset, batch_size = 64, shuffle = False)\n",
    "test_loader = DataLoader(test_dataset, batch_size = 64, shuffle = False)"
   ]
  },
  {
   "cell_type": "code",
   "execution_count": 5,
   "id": "e8f9e477",
   "metadata": {
    "execution": {
     "iopub.execute_input": "2023-11-02T15:22:31.085296Z",
     "iopub.status.busy": "2023-11-02T15:22:31.084781Z",
     "iopub.status.idle": "2023-11-02T15:22:31.939400Z",
     "shell.execute_reply": "2023-11-02T15:22:31.938083Z"
    },
    "papermill": {
     "duration": 0.866796,
     "end_time": "2023-11-02T15:22:31.942305",
     "exception": false,
     "start_time": "2023-11-02T15:22:31.075509",
     "status": "completed"
    },
    "tags": []
   },
   "outputs": [
    {
     "name": "stdout",
     "output_type": "stream",
     "text": [
      "torch.Size([1, 28, 28]) 9\n",
      "torch.Size([1, 28, 28]) 7\n",
      "torch.Size([1, 28, 28]) 5\n",
      "torch.Size([1, 28, 28]) 6\n",
      "torch.Size([1, 28, 28]) 2\n",
      "torch.Size([1, 28, 28]) 7\n",
      "torch.Size([1, 28, 28]) 7\n",
      "torch.Size([1, 28, 28]) 6\n",
      "torch.Size([1, 28, 28]) 2\n",
      "torch.Size([1, 28, 28]) 2\n"
     ]
    },
    {
     "data": {
      "image/png": "[encoded data removed]",
      "text/plain": [
       "<Figure size 1000x500 with 10 Axes>"
      ]
     },
     "metadata": {},
     "output_type": "display_data"
    }
   ],
   "source": [
    "# Visualize some of the images\n",
    "fig = plt.figure(figsize=(10, 5))\n",
    "for i in range(0, 10):\n",
    "    img, label = train_dataset[i*4]\n",
    "    ax = fig.add_subplot(2, 5, i + 1, xticks=[], yticks=[])\n",
    "    \n",
    "    # denormalize the image to display it properly.\n",
    "    print(img.shape, label)\n",
    "    img = img / 2 + 0.5\n",
    "\n",
    "    ax.imshow(img[0], cmap='gray')\n",
    "    ax.set_title(str(label))\n"
   ]
  },
  {
   "cell_type": "code",
   "execution_count": 6,
   "id": "fb0a885b",
   "metadata": {
    "execution": {
     "iopub.execute_input": "2023-11-02T15:22:31.959469Z",
     "iopub.status.busy": "2023-11-02T15:22:31.959023Z",
     "iopub.status.idle": "2023-11-02T15:22:41.319493Z",
     "shell.execute_reply": "2023-11-02T15:22:41.318315Z"
    },
    "papermill": {
     "duration": 9.372677,
     "end_time": "2023-11-02T15:22:41.322471",
     "exception": false,
     "start_time": "2023-11-02T15:22:31.949794",
     "status": "completed"
    },
    "tags": []
   },
   "outputs": [
    {
     "data": {
      "image/png": "[encoded data removed]",
      "text/plain": [
       "<Figure size 640x480 with 1 Axes>"
      ]
     },
     "metadata": {},
     "output_type": "display_data"
    }
   ],
   "source": [
    "# check the label data\n",
    "label_list = [label for img, label in train_dataset]\n",
    "\n",
    "# importing Counter module\n",
    "from collections import Counter\n",
    "label_counts = Counter(label_list)\n",
    "\n",
    "# Display as bar chart\n",
    "labels, counts = zip(*label_counts.items())\n",
    "plt.bar(labels, counts, tick_label=[str(i) for i in labels])\n",
    "plt.xlabel('Classes')\n",
    "plt.ylabel('Number of Samples')\n",
    "plt.title('Distribution of Classes in Training Data')\n",
    "plt.show()"
   ]
  },
  {
   "cell_type": "markdown",
   "id": "6ccb5c84",
   "metadata": {
    "papermill": {
     "duration": 0.007482,
     "end_time": "2023-11-02T15:22:41.338088",
     "exception": false,
     "start_time": "2023-11-02T15:22:41.330606",
     "status": "completed"
    },
    "tags": []
   },
   "source": [
    "# Step 2 : Initialize the model"
   ]
  },
  {
   "cell_type": "code",
   "execution_count": 7,
   "id": "a04951db",
   "metadata": {
    "execution": {
     "iopub.execute_input": "2023-11-02T15:22:41.355997Z",
     "iopub.status.busy": "2023-11-02T15:22:41.355571Z",
     "iopub.status.idle": "2023-11-02T15:22:41.375682Z",
     "shell.execute_reply": "2023-11-02T15:22:41.374304Z"
    },
    "papermill": {
     "duration": 0.032837,
     "end_time": "2023-11-02T15:22:41.378725",
     "exception": false,
     "start_time": "2023-11-02T15:22:41.345888",
     "status": "completed"
    },
    "tags": []
   },
   "outputs": [],
   "source": [
    "class SimpleCNN(nn.Module):\n",
    "    def __init__(self):\n",
    "        super(SimpleCNN, self).__init__()\n",
    "        \n",
    "        self.conv1 = nn.Conv2d(in_channels =1, out_channels = 32, kernel_size = 3, stride =1, padding =1)\n",
    "        self.conv2 = nn.Conv2d(in_channels =32, out_channels = 64, kernel_size = 3, stride =1, padding =1)\n",
    "\n",
    "        self.fc1 = nn.Linear(in_features = 64*7*7, out_features = 128)\n",
    "        self.fc2 = nn.Linear(in_features = 128, out_features = 10)\n",
    "        \n",
    "        self.max_pool = nn.MaxPool2d(kernel_size =2, stride=2, padding = 0)\n",
    "        self.relu = nn.ReLU()\n",
    "        self.dropout = nn.Dropout(p=0.5)\n",
    "        #self.softmax = nn.LogSoftmax(dim=1)\n",
    "        \n",
    "    def forward(self, x):\n",
    "        x = self.relu(self.conv1(x))\n",
    "        x = self.max_pool(x)\n",
    "        x = self.relu(self.conv2(x))\n",
    "        x = self.max_pool(x)\n",
    "        \n",
    "        x = x.view(-1, 64*7*7)\n",
    "        x = self.relu(self.fc1(x))\n",
    "        x = self.dropout(x)\n",
    "        x = self.fc2(x)\n",
    "        #x = self.softmax(self.fc2(x))\n",
    "        \n",
    "        return x\n",
    "    \n",
    "\n",
    "# Model, Loss and Optimizer\n",
    "model = SimpleCNN()\n"
   ]
  },
  {
   "cell_type": "markdown",
   "id": "4fe5d159",
   "metadata": {
    "papermill": {
     "duration": 0.007518,
     "end_time": "2023-11-02T15:22:41.394228",
     "exception": false,
     "start_time": "2023-11-02T15:22:41.386710",
     "status": "completed"
    },
    "tags": []
   },
   "source": [
    "# Step 3 : Train the model"
   ]
  },
  {
   "cell_type": "code",
   "execution_count": 8,
   "id": "0084c5ef",
   "metadata": {
    "execution": {
     "iopub.execute_input": "2023-11-02T15:22:41.411726Z",
     "iopub.status.busy": "2023-11-02T15:22:41.411318Z",
     "iopub.status.idle": "2023-11-02T15:28:53.723231Z",
     "shell.execute_reply": "2023-11-02T15:28:53.722065Z"
    },
    "papermill": {
     "duration": 372.334262,
     "end_time": "2023-11-02T15:28:53.736223",
     "exception": false,
     "start_time": "2023-11-02T15:22:41.401961",
     "status": "completed"
    },
    "tags": []
   },
   "outputs": [
    {
     "name": "stdout",
     "output_type": "stream",
     "text": [
      "Epoch 1/12 => Train loss: 0.7793, Train accuracy: 0.7389, Validation loss: 0.2435, Validation accuracy: 0.9268\n",
      "Epoch 2/12 => Train loss: 0.3169, Train accuracy: 0.9014, Validation loss: 0.1580, Validation accuracy: 0.9516\n",
      "Epoch 3/12 => Train loss: 0.2447, Train accuracy: 0.9248, Validation loss: 0.1201, Validation accuracy: 0.9624\n",
      "Epoch 4/12 => Train loss: 0.2023, Train accuracy: 0.9374, Validation loss: 0.1177, Validation accuracy: 0.9640\n",
      "Epoch 5/12 => Train loss: 0.1788, Train accuracy: 0.9444, Validation loss: 0.1070, Validation accuracy: 0.9668\n",
      "Epoch 6/12 => Train loss: 0.1597, Train accuracy: 0.9496, Validation loss: 0.0986, Validation accuracy: 0.9690\n",
      "Epoch 7/12 => Train loss: 0.1473, Train accuracy: 0.9540, Validation loss: 0.0991, Validation accuracy: 0.9697\n",
      "Epoch 8/12 => Train loss: 0.1324, Train accuracy: 0.9585, Validation loss: 0.0887, Validation accuracy: 0.9708\n",
      "Epoch 9/12 => Train loss: 0.1195, Train accuracy: 0.9620, Validation loss: 0.0904, Validation accuracy: 0.9710\n",
      "Epoch 10/12 => Train loss: 0.1098, Train accuracy: 0.9641, Validation loss: 0.0946, Validation accuracy: 0.9695\n",
      "Epoch 11/12 => Train loss: 0.1022, Train accuracy: 0.9656, Validation loss: 0.0996, Validation accuracy: 0.9722\n",
      "Epoch 12/12 => Train loss: 0.0989, Train accuracy: 0.9681, Validation loss: 0.0986, Validation accuracy: 0.9695\n"
     ]
    }
   ],
   "source": [
    "\n",
    "def train_model(model, train_loader, val_loader, num_epochs, lr, opt_func = torch.optim.Adam):\n",
    "    \n",
    "    criterion = nn.CrossEntropyLoss()\n",
    "    optimizer = opt_func(model.parameters(), lr)\n",
    "    \n",
    "    # Save the losses and accuracies each epoch\n",
    "    train_losses = []\n",
    "    train_accuracies = []\n",
    "    val_losses = []\n",
    "    val_accuracies = []\n",
    "    \n",
    "\n",
    "    for epoch in range(num_epochs):\n",
    "        model.train()\n",
    "        train_loss = 0.0\n",
    "        train_correct = 0.\n",
    "        \n",
    "        for X_batch, y_batch in train_loader:\n",
    "            optimizer.zero_grad()\n",
    "            \n",
    "            y_pred = model(X_batch)\n",
    "            \n",
    "            # To determine which class the model predicts for each sample based on the highest score\n",
    "            _, predicted = torch.max(y_pred, 1)\n",
    "        \n",
    "            train_correct += (predicted == y_batch).sum().item()\n",
    "            \n",
    "            loss = criterion(y_pred, y_batch)\n",
    "            loss.backward()\n",
    "            optimizer.step()\n",
    "            \n",
    "            train_loss += loss.item() * X_batch.size(0)\n",
    "        \n",
    "        train_loss /= len(train_loader.dataset)\n",
    "        train_losses.append(train_loss)\n",
    "        \n",
    "        train_accuracy = train_correct / len(train_loader.dataset)\n",
    "        train_accuracies.append(train_accuracy)\n",
    "        \n",
    "        model.eval()\n",
    "        \n",
    "        val_loss = 0\n",
    "        val_correct = 0 \n",
    "        \n",
    "        with torch.no_grad():\n",
    "            for X_batch, y_batch in val_loader:\n",
    "                y_pred = model(X_batch)\n",
    "                \n",
    "                _, predicted = torch.max(y_pred, 1)\n",
    "                val_correct += (predicted == y_batch).sum().item()\n",
    "                \n",
    "                loss = criterion(y_pred, y_batch)\n",
    "                val_loss += loss.item() * X_batch.size(0)\n",
    "                \n",
    "        val_loss /= len(val_loader.dataset)\n",
    "        val_losses.append(val_loss)\n",
    "        \n",
    "        val_accuracy = val_correct / len(val_loader.dataset)\n",
    "        val_accuracies.append(val_accuracy)\n",
    "        \n",
    "\n",
    "        print(f\"Epoch {epoch+1}/{num_epochs} => \"\n",
    "              f\"Train loss: {train_loss:.4f}, \"\n",
    "              f\"Train accuracy: {train_accuracy:.4f}, \"\n",
    "              f\"Validation loss: {val_loss:.4f}, \"\n",
    "              f\"Validation accuracy: {val_accuracy:.4f}\")\n",
    "        \n",
    "    return train_losses, train_accuracies, val_losses, val_accuracies\n",
    "\n",
    "# Training loop\n",
    "num_epochs = 12\n",
    "lr = 1.e-3\n",
    "\n",
    "train_losses, train_accuracies, val_losses, val_accuracies = train_model(model, train_loader, val_loader, num_epochs, lr)"
   ]
  },
  {
   "cell_type": "code",
   "execution_count": 9,
   "id": "3756938f",
   "metadata": {
    "execution": {
     "iopub.execute_input": "2023-11-02T15:28:53.758092Z",
     "iopub.status.busy": "2023-11-02T15:28:53.756924Z",
     "iopub.status.idle": "2023-11-02T15:28:54.146398Z",
     "shell.execute_reply": "2023-11-02T15:28:54.144952Z"
    },
    "papermill": {
     "duration": 0.404103,
     "end_time": "2023-11-02T15:28:54.149759",
     "exception": false,
     "start_time": "2023-11-02T15:28:53.745656",
     "status": "completed"
    },
    "tags": []
   },
   "outputs": [
    {
     "data": {
      "image/png": "[encoded data removed]",
      "text/plain": [
       "<Figure size 1000x600 with 1 Axes>"
      ]
     },
     "metadata": {},
     "output_type": "display_data"
    }
   ],
   "source": [
    "# plot the losses\n",
    "plt.figure(figsize = (10,6))\n",
    "\n",
    "plt.plot(range(num_epochs), train_losses, label = 'Train Loss', color = 'red')\n",
    "plt.plot(range(num_epochs), val_losses, label = 'Validation Loss', color = 'blue')\n",
    "plt.plot(range(num_epochs), train_accuracies, label = 'Train Accurracy', color = 'green')\n",
    "plt.plot(range(num_epochs), val_accuracies, label = 'Validation Accuracy', color = 'black')\n",
    "plt.xlabel('Epoches')\n",
    "plt.ylabel('Loss')\n",
    "plt.title('Train and Validation Losses over epochs')\n",
    "plt.legend()\n",
    "plt.show()"
   ]
  },
  {
   "cell_type": "code",
   "execution_count": 10,
   "id": "ea985670",
   "metadata": {
    "execution": {
     "iopub.execute_input": "2023-11-02T15:28:54.175429Z",
     "iopub.status.busy": "2023-11-02T15:28:54.173311Z",
     "iopub.status.idle": "2023-11-02T15:28:57.620113Z",
     "shell.execute_reply": "2023-11-02T15:28:57.619204Z"
    },
    "papermill": {
     "duration": 3.462051,
     "end_time": "2023-11-02T15:28:57.622888",
     "exception": false,
     "start_time": "2023-11-02T15:28:54.160837",
     "status": "completed"
    },
    "tags": []
   },
   "outputs": [
    {
     "name": "stdout",
     "output_type": "stream",
     "text": [
      "Accuracy: 96.49%\n"
     ]
    }
   ],
   "source": [
    "def predict(model, dataloader):\n",
    "    \"\"\"\n",
    "    Predict the model over a dataloader.\n",
    "    \n",
    "    Arguments:\n",
    "    - model : The trained model\n",
    "    - dataloader : DataLoader instance containing the data to predict and evaluate\n",
    "    \n",
    "    Returns:\n",
    "    - predicted : model predictions\n",
    "    - labels : actual labels\n",
    "    \"\"\"\n",
    "    \n",
    "    # Set the model to evaluation mode\n",
    "    model.eval()\n",
    "    predictions = []\n",
    "    actual = []\n",
    "    \n",
    "    # No need to track gradients for validation\n",
    "    with torch.no_grad():\n",
    "        for X_batch, y_batch in dataloader:\n",
    "            # Predict\n",
    "            y_pred = model(X_batch)\n",
    "            _, predicted = torch.max(y_pred, 1)\n",
    "            \n",
    "            predictions.extend(predicted.squeeze().tolist())\n",
    "            actual.extend(y_batch.squeeze().tolist())\n",
    "        \n",
    "    return predictions, actual\n",
    "\n",
    "predictions, actual_values = predict(model, test_loader)\n",
    "\n",
    "\n",
    "correct = 0\n",
    "total = 0\n",
    "\n",
    "for idx, value in enumerate(actual_values):\n",
    "    #print(np.array(value), np.array(predictions[idx]))\n",
    "    \n",
    "    # Update correct counters\n",
    "    if predictions[idx] == value:\n",
    "        correct += 1\n",
    "    \n",
    "accuracy = correct / len(actual_values)\n",
    "print(f\"Accuracy: {accuracy * 100:.2f}%\")"
   ]
  },
  {
   "cell_type": "markdown",
   "id": "74671213",
   "metadata": {
    "papermill": {
     "duration": 0.009973,
     "end_time": "2023-11-02T15:28:57.643836",
     "exception": false,
     "start_time": "2023-11-02T15:28:57.633863",
     "status": "completed"
    },
    "tags": []
   },
   "source": [
    "## Final submission"
   ]
  },
  {
   "cell_type": "code",
   "execution_count": 11,
   "id": "e229b5e1",
   "metadata": {
    "execution": {
     "iopub.execute_input": "2023-11-02T15:28:57.665506Z",
     "iopub.status.busy": "2023-11-02T15:28:57.664794Z",
     "iopub.status.idle": "2023-11-02T15:29:00.344192Z",
     "shell.execute_reply": "2023-11-02T15:29:00.342689Z"
    },
    "papermill": {
     "duration": 2.69361,
     "end_time": "2023-11-02T15:29:00.347115",
     "exception": false,
     "start_time": "2023-11-02T15:28:57.653505",
     "status": "completed"
    },
    "tags": []
   },
   "outputs": [
    {
     "name": "stdout",
     "output_type": "stream",
     "text": [
      "   pixel0  pixel1  pixel2  pixel3  pixel4  pixel5  pixel6  pixel7  pixel8  \\\n",
      "0       0       0       0       0       0       0       0       0       0   \n",
      "1       0       0       0       0       0       0       0       0       0   \n",
      "2       0       0       0       0       0       0       0       0       0   \n",
      "\n",
      "   pixel9  ...  pixel774  pixel775  pixel776  pixel777  pixel778  pixel779  \\\n",
      "0       0  ...         0         0         0         0         0         0   \n",
      "1       0  ...         0         0         0         0         0         0   \n",
      "2       0  ...         0         0         0         0         0         0   \n",
      "\n",
      "   pixel780  pixel781  pixel782  pixel783  \n",
      "0         0         0         0         0  \n",
      "1         0         0         0         0  \n",
      "2         0         0         0         0  \n",
      "\n",
      "[3 rows x 784 columns]\n",
      "(28000, 784)\n"
     ]
    }
   ],
   "source": [
    "test_data_path = \"/kaggle/input/digit-recognizer/test.csv\"\n",
    "test_df = pd.read_csv(test_data_path)\n",
    "\n",
    "print(test_df.head(3))\n",
    "\n",
    "print(test_df.shape)\n",
    "\n"
   ]
  },
  {
   "cell_type": "code",
   "execution_count": 12,
   "id": "db22ff0d",
   "metadata": {
    "execution": {
     "iopub.execute_input": "2023-11-02T15:29:00.370834Z",
     "iopub.status.busy": "2023-11-02T15:29:00.370267Z",
     "iopub.status.idle": "2023-11-02T15:29:15.509476Z",
     "shell.execute_reply": "2023-11-02T15:29:15.508140Z"
    },
    "papermill": {
     "duration": 15.154438,
     "end_time": "2023-11-02T15:29:15.512684",
     "exception": false,
     "start_time": "2023-11-02T15:29:00.358246",
     "status": "completed"
    },
    "tags": []
   },
   "outputs": [
    {
     "name": "stdout",
     "output_type": "stream",
     "text": [
      "(28000, 784) (28000,)\n"
     ]
    }
   ],
   "source": [
    "# apply the same cleaning/preprocessing methods to the test data\n",
    "test_images = np.array(test_df)\n",
    "\n",
    "test_df['label'] = 0 \n",
    "test_labels= np.array(test_df['label'])\n",
    "\n",
    "print(test_images.shape, test_labels.shape)\n",
    "\n",
    "\n",
    "test_dataset = CustomDataset(test_images,test_labels, transform = transform)\n",
    "\n",
    "test_loader = DataLoader(test_dataset, batch_size = 64, shuffle = False)\n",
    "\n",
    "predictions, _ = predict(model, test_loader) # actual data is not unused \n",
    "\n"
   ]
  },
  {
   "cell_type": "code",
   "execution_count": 13,
   "id": "42dcab26",
   "metadata": {
    "execution": {
     "iopub.execute_input": "2023-11-02T15:29:15.536318Z",
     "iopub.status.busy": "2023-11-02T15:29:15.535833Z",
     "iopub.status.idle": "2023-11-02T15:29:15.641191Z",
     "shell.execute_reply": "2023-11-02T15:29:15.639922Z"
    },
    "papermill": {
     "duration": 0.119822,
     "end_time": "2023-11-02T15:29:15.643820",
     "exception": false,
     "start_time": "2023-11-02T15:29:15.523998",
     "status": "completed"
    },
    "tags": []
   },
   "outputs": [
    {
     "name": "stdout",
     "output_type": "stream",
     "text": [
      "28000\n",
      "   ImageId  Label\n",
      "0        1      0\n",
      "1        2      0\n",
      "2        3      0\n",
      "3        4      0\n",
      "4        5      0\n",
      "   ImageId  Label\n",
      "0        1      2\n",
      "1        2      0\n",
      "2        3      9\n",
      "3        4      9\n",
      "4        5      3\n"
     ]
    }
   ],
   "source": [
    "print(len(predictions))\n",
    "# prepare the submission\n",
    "submit_df = pd.read_csv('/kaggle/input/digit-recognizer/sample_submission.csv')\n",
    "#submit_df.to_csv('/kaggle/working/submission.csv',index=False)\n",
    "print(submit_df.head())\n",
    "\n",
    "\n",
    "submit_df['Label'] = predictions\n",
    "\n",
    "submit_df.to_csv('/kaggle/working/submission.csv',index=False)\n",
    "print(submit_df.head())\n"
   ]
  }
 ],
 "metadata": {
  "kernelspec": {
   "display_name": "Python 3",
   "language": "python",
   "name": "python3"
  },
  "language_info": {
   "codemirror_mode": {
    "name": "ipython",
    "version": 3
   },
   "file_extension": ".py",
   "mimetype": "text/x-python",
   "name": "python",
   "nbconvert_exporter": "python",
   "pygments_lexer": "ipython3",
   "version": "3.10.12"
  },
  "papermill": {
   "default_parameters": {},
   "duration": 422.572005,
   "end_time": "2023-11-02T15:29:17.382515",
   "environment_variables": {},
   "exception": null,
   "input_path": "__notebook__.ipynb",
   "output_path": "__notebook__.ipynb",
   "parameters": {},
   "start_time": "2023-11-02T15:22:14.810510",
   "version": "2.4.0"
  }
 },
 "nbformat": 4,
 "nbformat_minor": 5
}
