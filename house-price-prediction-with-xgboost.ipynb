{
 "cells": [
  {
   "cell_type": "code",
   "execution_count": 1,
   "id": "89ca911b",
   "metadata": {
    "_cell_guid": "b1076dfc-b9ad-4769-8c92-a6c4dae69d19",
    "_uuid": "8f2839f25d086af736a60e9eeb907d3b93b6e0e5",
    "execution": {
     "iopub.execute_input": "2023-11-02T15:19:50.651578Z",
     "iopub.status.busy": "2023-11-02T15:19:50.651056Z",
     "iopub.status.idle": "2023-11-02T15:19:53.236434Z",
     "shell.execute_reply": "2023-11-02T15:19:53.235084Z"
    },
    "papermill": {
     "duration": 2.596732,
     "end_time": "2023-11-02T15:19:53.239408",
     "exception": false,
     "start_time": "2023-11-02T15:19:50.642676",
     "status": "completed"
    },
    "tags": []
   },
   "outputs": [],
   "source": [
    "# Import libraries\n",
    "import xgboost as xgb\n",
    "from sklearn.model_selection import train_test_split\n",
    "from sklearn.metrics import mean_squared_error\n",
    "\n",
    "from sklearn import preprocessing\n",
    "\n",
    "import numpy as np\n",
    "\n",
    "import pandas as pd\n",
    "import matplotlib.pyplot as plt\n",
    "import seaborn as sns\n",
    "\n",
    "%matplotlib inline"
   ]
  },
  {
   "cell_type": "markdown",
   "id": "e36d0ec9",
   "metadata": {
    "papermill": {
     "duration": 0.005796,
     "end_time": "2023-11-02T15:19:53.253090",
     "exception": false,
     "start_time": "2023-11-02T15:19:53.247294",
     "status": "completed"
    },
    "tags": []
   },
   "source": [
    "## Step 1: Load the data"
   ]
  },
  {
   "cell_type": "code",
   "execution_count": 2,
   "id": "edd42a97",
   "metadata": {
    "execution": {
     "iopub.execute_input": "2023-11-02T15:19:53.266860Z",
     "iopub.status.busy": "2023-11-02T15:19:53.266262Z",
     "iopub.status.idle": "2023-11-02T15:19:53.842939Z",
     "shell.execute_reply": "2023-11-02T15:19:53.841448Z"
    },
    "papermill": {
     "duration": 0.587012,
     "end_time": "2023-11-02T15:19:53.845870",
     "exception": false,
     "start_time": "2023-11-02T15:19:53.258858",
     "status": "completed"
    },
    "tags": []
   },
   "outputs": [
    {
     "data": {
      "text/plain": [
       "count      1460.000000\n",
       "mean     180921.195890\n",
       "std       79442.502883\n",
       "min       34900.000000\n",
       "25%      129975.000000\n",
       "50%      163000.000000\n",
       "75%      214000.000000\n",
       "max      755000.000000\n",
       "Name: SalePrice, dtype: float64"
      ]
     },
     "execution_count": 2,
     "metadata": {},
     "output_type": "execute_result"
    },
    {
     "data": {
      "image/png": "[encoded data removed]",
      "text/plain": [
       "<Figure size 640x480 with 1 Axes>"
      ]
     },
     "metadata": {},
     "output_type": "display_data"
    }
   ],
   "source": [
    "train_data_path = \"../input/house-prices-advanced-regression-techniques/train.csv\"\n",
    "train_df = pd.read_csv(train_data_path)\n",
    "\n",
    "train_df.head(3)\n",
    "\n",
    "# drop the unnecessary column\n",
    "train_df = train_df.drop('Id', axis=1)\n",
    "train_df\n",
    "\n",
    "# check the target data\n",
    "plt.title(\"Distribution of House Price\")\n",
    "sns.histplot(train_df.SalePrice, kde=False)\n",
    "train_df['SalePrice'].describe()"
   ]
  },
  {
   "cell_type": "markdown",
   "id": "3ed0bfb0",
   "metadata": {
    "papermill": {
     "duration": 0.006025,
     "end_time": "2023-11-02T15:19:53.858472",
     "exception": false,
     "start_time": "2023-11-02T15:19:53.852447",
     "status": "completed"
    },
    "tags": []
   },
   "source": [
    "## Step 2. Cleaning the dataset"
   ]
  },
  {
   "cell_type": "code",
   "execution_count": 3,
   "id": "470e9820",
   "metadata": {
    "execution": {
     "iopub.execute_input": "2023-11-02T15:19:53.873125Z",
     "iopub.status.busy": "2023-11-02T15:19:53.872668Z",
     "iopub.status.idle": "2023-11-02T15:19:53.928649Z",
     "shell.execute_reply": "2023-11-02T15:19:53.927221Z"
    },
    "papermill": {
     "duration": 0.067202,
     "end_time": "2023-11-02T15:19:53.931936",
     "exception": false,
     "start_time": "2023-11-02T15:19:53.864734",
     "status": "completed"
    },
    "tags": []
   },
   "outputs": [
    {
     "name": "stdout",
     "output_type": "stream",
     "text": [
      "<class 'pandas.core.frame.DataFrame'>\n",
      "RangeIndex: 1460 entries, 0 to 1459\n",
      "Data columns (total 73 columns):\n",
      " #   Column         Non-Null Count  Dtype  \n",
      "---  ------         --------------  -----  \n",
      " 0   MSSubClass     1460 non-null   int64  \n",
      " 1   MSZoning       1460 non-null   object \n",
      " 2   LotArea        1460 non-null   int64  \n",
      " 3   Street         1460 non-null   object \n",
      " 4   LotShape       1460 non-null   object \n",
      " 5   LandContour    1460 non-null   object \n",
      " 6   Utilities      1460 non-null   object \n",
      " 7   LotConfig      1460 non-null   object \n",
      " 8   LandSlope      1460 non-null   object \n",
      " 9   Neighborhood   1460 non-null   object \n",
      " 10  Condition1     1460 non-null   object \n",
      " 11  Condition2     1460 non-null   object \n",
      " 12  BldgType       1460 non-null   object \n",
      " 13  HouseStyle     1460 non-null   object \n",
      " 14  OverallQual    1460 non-null   int64  \n",
      " 15  OverallCond    1460 non-null   int64  \n",
      " 16  YearBuilt      1460 non-null   int64  \n",
      " 17  YearRemodAdd   1460 non-null   int64  \n",
      " 18  RoofStyle      1460 non-null   object \n",
      " 19  RoofMatl       1460 non-null   object \n",
      " 20  Exterior1st    1460 non-null   object \n",
      " 21  Exterior2nd    1460 non-null   object \n",
      " 22  MasVnrArea     1460 non-null   float64\n",
      " 23  ExterQual      1460 non-null   object \n",
      " 24  ExterCond      1460 non-null   object \n",
      " 25  Foundation     1460 non-null   object \n",
      " 26  BsmtQual       1460 non-null   object \n",
      " 27  BsmtCond       1460 non-null   object \n",
      " 28  BsmtExposure   1460 non-null   object \n",
      " 29  BsmtFinType1   1460 non-null   object \n",
      " 30  BsmtFinSF1     1460 non-null   int64  \n",
      " 31  BsmtFinType2   1460 non-null   object \n",
      " 32  BsmtFinSF2     1460 non-null   int64  \n",
      " 33  BsmtUnfSF      1460 non-null   int64  \n",
      " 34  TotalBsmtSF    1460 non-null   int64  \n",
      " 35  Heating        1460 non-null   object \n",
      " 36  HeatingQC      1460 non-null   object \n",
      " 37  CentralAir     1460 non-null   object \n",
      " 38  Electrical     1460 non-null   object \n",
      " 39  1stFlrSF       1460 non-null   int64  \n",
      " 40  2ndFlrSF       1460 non-null   int64  \n",
      " 41  LowQualFinSF   1460 non-null   int64  \n",
      " 42  GrLivArea      1460 non-null   int64  \n",
      " 43  BsmtFullBath   1460 non-null   int64  \n",
      " 44  BsmtHalfBath   1460 non-null   int64  \n",
      " 45  FullBath       1460 non-null   int64  \n",
      " 46  HalfBath       1460 non-null   int64  \n",
      " 47  BedroomAbvGr   1460 non-null   int64  \n",
      " 48  KitchenAbvGr   1460 non-null   int64  \n",
      " 49  KitchenQual    1460 non-null   object \n",
      " 50  TotRmsAbvGrd   1460 non-null   int64  \n",
      " 51  Functional     1460 non-null   object \n",
      " 52  Fireplaces     1460 non-null   int64  \n",
      " 53  GarageType     1460 non-null   object \n",
      " 54  GarageYrBlt    1460 non-null   float64\n",
      " 55  GarageFinish   1460 non-null   object \n",
      " 56  GarageCars     1460 non-null   int64  \n",
      " 57  GarageArea     1460 non-null   int64  \n",
      " 58  GarageQual     1460 non-null   object \n",
      " 59  GarageCond     1460 non-null   object \n",
      " 60  PavedDrive     1460 non-null   object \n",
      " 61  WoodDeckSF     1460 non-null   int64  \n",
      " 62  OpenPorchSF    1460 non-null   int64  \n",
      " 63  EnclosedPorch  1460 non-null   int64  \n",
      " 64  3SsnPorch      1460 non-null   int64  \n",
      " 65  ScreenPorch    1460 non-null   int64  \n",
      " 66  PoolArea       1460 non-null   int64  \n",
      " 67  MiscVal        1460 non-null   int64  \n",
      " 68  MoSold         1460 non-null   int64  \n",
      " 69  YrSold         1460 non-null   int64  \n",
      " 70  SaleType       1460 non-null   object \n",
      " 71  SaleCondition  1460 non-null   object \n",
      " 72  SalePrice      1460 non-null   int64  \n",
      "dtypes: float64(2), int64(34), object(37)\n",
      "memory usage: 832.8+ KB\n"
     ]
    }
   ],
   "source": [
    "num_rows= len(train_df)\n",
    "\n",
    "# drop the column with more 10% of the null values\n",
    "train_df.dropna(thresh=num_rows*0.9,axis=1, inplace = True)\n",
    "\n",
    "# replace any null value with zero (to use all housing data)\n",
    "train_df.fillna(0, inplace=True)\n",
    "\n",
    "train_df.info()"
   ]
  },
  {
   "cell_type": "markdown",
   "id": "f226a438",
   "metadata": {
    "papermill": {
     "duration": 0.006195,
     "end_time": "2023-11-02T15:19:53.944868",
     "exception": false,
     "start_time": "2023-11-02T15:19:53.938673",
     "status": "completed"
    },
    "tags": []
   },
   "source": [
    "## Step 3. Preprocessing"
   ]
  },
  {
   "cell_type": "code",
   "execution_count": 4,
   "id": "181962a2",
   "metadata": {
    "execution": {
     "iopub.execute_input": "2023-11-02T15:19:53.960616Z",
     "iopub.status.busy": "2023-11-02T15:19:53.960033Z",
     "iopub.status.idle": "2023-11-02T15:19:54.017996Z",
     "shell.execute_reply": "2023-11-02T15:19:54.017072Z"
    },
    "papermill": {
     "duration": 0.069592,
     "end_time": "2023-11-02T15:19:54.020882",
     "exception": false,
     "start_time": "2023-11-02T15:19:53.951290",
     "status": "completed"
    },
    "tags": []
   },
   "outputs": [
    {
     "name": "stdout",
     "output_type": "stream",
     "text": [
      "total 72 columsn are input for the regression model\n",
      "Among them, 37 columns are categorical: ['GarageType', 'BsmtCond', 'SaleCondition', 'ExterCond', 'PavedDrive', 'LandSlope', 'GarageQual', 'Foundation', 'BsmtQual', 'Functional', 'Exterior2nd', 'Neighborhood', 'BsmtFinType1', 'BsmtFinType2', 'Condition2', 'RoofStyle', 'BsmtExposure', 'Exterior1st', 'BldgType', 'Electrical', 'Heating', 'GarageFinish', 'LotConfig', 'HouseStyle', 'LotShape', 'HeatingQC', 'GarageCond', 'KitchenQual', 'Street', 'ExterQual', 'MSZoning', 'RoofMatl', 'Utilities', 'LandContour', 'SaleType', 'Condition1', 'CentralAir']\n",
      "Total number of NaN in the datasets : MSSubClass       0\n",
      "MSZoning         0\n",
      "LotArea          0\n",
      "Street           0\n",
      "LotShape         0\n",
      "                ..\n",
      "MoSold           0\n",
      "YrSold           0\n",
      "SaleType         0\n",
      "SaleCondition    0\n",
      "SalePrice        0\n",
      "Length: 73, dtype: int64\n",
      "Total number of 0 in the datasets : MSSubClass         0\n",
      "MSZoning          10\n",
      "LotArea            0\n",
      "Street             6\n",
      "LotShape         484\n",
      "                ... \n",
      "MoSold             0\n",
      "YrSold             0\n",
      "SaleType          43\n",
      "SaleCondition    101\n",
      "SalePrice          0\n",
      "Length: 73, dtype: int64\n"
     ]
    }
   ],
   "source": [
    "# find numeric and non-numeric columns\n",
    "\n",
    "# set target column\n",
    "output_col = ['SalePrice']\n",
    "\n",
    "# save the total column names \n",
    "total_cols = train_df.columns\n",
    "\n",
    "# find the input columns\n",
    "input_cols = list(set(total_cols) - set(output_col))\n",
    "print(f\"total {len(input_cols)} columsn are input for the regression model\")\n",
    "    \n",
    "# save the column number info\n",
    "input_size = len(input_cols)\n",
    "output_size = len(output_col)\n",
    "    \n",
    "def convert_to_all_numeric_df(df):\n",
    "    \n",
    "    # Make a copy of the original dataframe\n",
    "    df1 = df.copy(deep=True)\n",
    "    \n",
    "    # save the total column names \n",
    "    total_cols = df1.columns\n",
    "\n",
    "    # find categorical columns \n",
    "    numeric_cols = df1._get_numeric_data().columns\n",
    "    categorical_cols = list(set(total_cols) - set(numeric_cols))\n",
    "    print(f\"Among them, {len(categorical_cols)} columns are categorical: {categorical_cols}\")\n",
    "\n",
    "    #convert non-numeric catogerical columns to numeric \n",
    "    for col in categorical_cols:\n",
    "        df1[col] = df1[col].astype('category').cat.codes\n",
    "    \n",
    "    # check zero and NaN\n",
    "    print(f\"Total number of NaN in the datasets : {df1.isna().sum()}\")\n",
    "    print(f\"Total number of 0 in the datasets : {(df1 == 0.00).sum()}\")\n",
    "    \n",
    "    return df1\n",
    "   \n",
    "    \n",
    "train_df1 = convert_to_all_numeric_df(train_df)"
   ]
  },
  {
   "cell_type": "code",
   "execution_count": 5,
   "id": "3d5ac7c2",
   "metadata": {
    "execution": {
     "iopub.execute_input": "2023-11-02T15:19:54.036995Z",
     "iopub.status.busy": "2023-11-02T15:19:54.036294Z",
     "iopub.status.idle": "2023-11-02T15:19:54.065588Z",
     "shell.execute_reply": "2023-11-02T15:19:54.064620Z"
    },
    "papermill": {
     "duration": 0.040607,
     "end_time": "2023-11-02T15:19:54.068328",
     "exception": false,
     "start_time": "2023-11-02T15:19:54.027721",
     "status": "completed"
    },
    "tags": []
   },
   "outputs": [],
   "source": [
    "# As preprocessing, the target value, SalePrice will be converted to Million unit. \n",
    "train_df1[output_col] = train_df1[output_col]/1.e6\n",
    "\n",
    "# Create input and output data\n",
    "X = train_df1[input_cols].to_numpy()\n",
    "y = train_df1[output_col].to_numpy()\n",
    "\n",
    "# split the train and test data\n",
    "X_train, X_test, y_train, y_test = train_test_split(X, y, test_size=0.3, random_state=20)\n",
    "\n",
    "input_scaler = preprocessing.StandardScaler()\n",
    "\n",
    "# preprocessing input using built-in Scaler \n",
    "X_train = input_scaler.fit_transform(X_train)\n",
    "X_test = input_scaler.transform(X_test)\n",
    "\n",
    "# Convert data to DMatrix format for XGBoost\n",
    "dtrain = xgb.DMatrix(X_train, label=y_train)\n",
    "dtest = xgb.DMatrix(X_test, label=y_test)"
   ]
  },
  {
   "cell_type": "markdown",
   "id": "15b155bd",
   "metadata": {
    "papermill": {
     "duration": 0.006857,
     "end_time": "2023-11-02T15:19:54.082663",
     "exception": false,
     "start_time": "2023-11-02T15:19:54.075806",
     "status": "completed"
    },
    "tags": []
   },
   "source": [
    "## Step 4. Initialize the model"
   ]
  },
  {
   "cell_type": "code",
   "execution_count": 6,
   "id": "70eab8f3",
   "metadata": {
    "execution": {
     "iopub.execute_input": "2023-11-02T15:19:54.097802Z",
     "iopub.status.busy": "2023-11-02T15:19:54.097350Z",
     "iopub.status.idle": "2023-11-02T15:19:54.219938Z",
     "shell.execute_reply": "2023-11-02T15:19:54.218977Z"
    },
    "papermill": {
     "duration": 0.133221,
     "end_time": "2023-11-02T15:19:54.222670",
     "exception": false,
     "start_time": "2023-11-02T15:19:54.089449",
     "status": "completed"
    },
    "tags": []
   },
   "outputs": [],
   "source": [
    "# Set parameters\n",
    "param = {\n",
    "    'max_depth': 3,\n",
    "    'eta': 0.2,\n",
    "    'objective': 'reg:squarederror',\n",
    "    'learning_rate': 0.1,\n",
    "    'max_depth': 3,\n",
    "    'subsample': 1.0,\n",
    "    'colsample_bytree': 0.5,\n",
    "}\n",
    "\n",
    "# Train the model\n",
    "num_round = 100\n",
    "bst = xgb.train(param, dtrain, num_round)\n",
    "\n",
    "\n"
   ]
  },
  {
   "cell_type": "markdown",
   "id": "e5365021",
   "metadata": {
    "papermill": {
     "duration": 0.00693,
     "end_time": "2023-11-02T15:19:54.237522",
     "exception": false,
     "start_time": "2023-11-02T15:19:54.230592",
     "status": "completed"
    },
    "tags": []
   },
   "source": [
    "# Step 5. Predict the model"
   ]
  },
  {
   "cell_type": "code",
   "execution_count": 7,
   "id": "86069b73",
   "metadata": {
    "execution": {
     "iopub.execute_input": "2023-11-02T15:19:54.252571Z",
     "iopub.status.busy": "2023-11-02T15:19:54.252155Z",
     "iopub.status.idle": "2023-11-02T15:19:54.652966Z",
     "shell.execute_reply": "2023-11-02T15:19:54.651861Z"
    },
    "papermill": {
     "duration": 0.411318,
     "end_time": "2023-11-02T15:19:54.655556",
     "exception": false,
     "start_time": "2023-11-02T15:19:54.244238",
     "status": "completed"
    },
    "tags": []
   },
   "outputs": [
    {
     "name": "stdout",
     "output_type": "stream",
     "text": [
      "(438,) (438,)\n",
      "438 438\n",
      "MSE: 0.0189\n",
      "RMSE: 0.1375\n",
      "Correlation Coefficient: 0.9259\n"
     ]
    },
    {
     "data": {
      "image/png": "[encoded data removed]",
      "text/plain": [
       "<Figure size 1000x600 with 1 Axes>"
      ]
     },
     "metadata": {},
     "output_type": "display_data"
    }
   ],
   "source": [
    "# Predict\n",
    "predictions = bst.predict(dtest)\n",
    "\n",
    "print(predictions.shape, y_test[:,0].shape)\n",
    "\n",
    "\n",
    "# convert the price from million $ to $\n",
    "predictions = [x * 1.e6 for x in predictions] \n",
    "actual_values = [x * 1.e6 for x in y_test[:,0]] \n",
    "\n",
    "print(len(predictions), len(actual_values))\n",
    "\n",
    "log_predicted = np.log1p(np.array(predictions))\n",
    "log_actual = np.log1p(np.array(actual_values))\n",
    "\n",
    "# Calculate key statistics\n",
    "MSE = np.mean((log_predicted - log_actual)**2 )\n",
    "RMSE = np.sqrt(MSE)\n",
    "R  = np.corrcoef(predictions, actual_values)[0,1]\n",
    "\n",
    "stats_text = f'MSE: {MSE:.4f}\\nRMSE: {RMSE:.4f}\\nCorrelation Coefficient: {R:.4f}'\n",
    "print(stats_text)\n",
    "\n",
    "# plot the predictions and actual_values\n",
    "plt.figure(figsize = (10,6))\n",
    "\n",
    "plt.scatter(actual_values,  predictions)\n",
    "# Add the 1:1 line\n",
    "min_val = min(min(actual_values), min(predictions))\n",
    "max_val = max(max(actual_values), max(predictions))\n",
    "plt.plot([min_val, max_val], [min_val, max_val], color='red', linestyle='--')\n",
    "\n",
    "\n",
    "# Adding the key statistics on the plot\n",
    "plt.text(0.4, 0.95, stats_text, transform=plt.gca().transAxes, verticalalignment='top', bbox=dict(boxstyle=\"round,pad=0.3\", edgecolor=\"black\", facecolor=\"aliceblue\"))\n",
    "    \n",
    "    \n",
    "plt.xlabel('Actual Values')\n",
    "plt.ylabel('Predictions')\n",
    "plt.title('House Price predictions vs Actual values')\n",
    "plt.legend()\n",
    "plt.show()"
   ]
  },
  {
   "cell_type": "markdown",
   "id": "4f080c80",
   "metadata": {
    "papermill": {
     "duration": 0.007858,
     "end_time": "2023-11-02T15:19:54.671533",
     "exception": false,
     "start_time": "2023-11-02T15:19:54.663675",
     "status": "completed"
    },
    "tags": []
   },
   "source": [
    "## Submission"
   ]
  },
  {
   "cell_type": "code",
   "execution_count": 8,
   "id": "2fbc7b29",
   "metadata": {
    "execution": {
     "iopub.execute_input": "2023-11-02T15:19:54.690293Z",
     "iopub.status.busy": "2023-11-02T15:19:54.689228Z",
     "iopub.status.idle": "2023-11-02T15:19:54.758648Z",
     "shell.execute_reply": "2023-11-02T15:19:54.757442Z"
    },
    "papermill": {
     "duration": 0.081613,
     "end_time": "2023-11-02T15:19:54.761584",
     "exception": false,
     "start_time": "2023-11-02T15:19:54.679971",
     "status": "completed"
    },
    "tags": []
   },
   "outputs": [
    {
     "name": "stdout",
     "output_type": "stream",
     "text": [
      "(1459, 80)\n"
     ]
    },
    {
     "data": {
      "text/html": [
       "<div>\n",
       "<style scoped>\n",
       "    .dataframe tbody tr th:only-of-type {\n",
       "        vertical-align: middle;\n",
       "    }\n",
       "\n",
       "    .dataframe tbody tr th {\n",
       "        vertical-align: top;\n",
       "    }\n",
       "\n",
       "    .dataframe thead th {\n",
       "        text-align: right;\n",
       "    }\n",
       "</style>\n",
       "<table border=\"1\" class=\"dataframe\">\n",
       "  <thead>\n",
       "    <tr style=\"text-align: right;\">\n",
       "      <th></th>\n",
       "      <th>Id</th>\n",
       "      <th>MSSubClass</th>\n",
       "      <th>MSZoning</th>\n",
       "      <th>LotFrontage</th>\n",
       "      <th>LotArea</th>\n",
       "      <th>Street</th>\n",
       "      <th>Alley</th>\n",
       "      <th>LotShape</th>\n",
       "      <th>LandContour</th>\n",
       "      <th>Utilities</th>\n",
       "      <th>...</th>\n",
       "      <th>PoolArea</th>\n",
       "      <th>PoolQC</th>\n",
       "      <th>Fence</th>\n",
       "      <th>MiscFeature</th>\n",
       "      <th>MiscVal</th>\n",
       "      <th>MoSold</th>\n",
       "      <th>YrSold</th>\n",
       "      <th>SaleType</th>\n",
       "      <th>SaleCondition</th>\n",
       "      <th>SalePrice</th>\n",
       "    </tr>\n",
       "  </thead>\n",
       "  <tbody>\n",
       "    <tr>\n",
       "      <th>0</th>\n",
       "      <td>1461</td>\n",
       "      <td>20</td>\n",
       "      <td>RH</td>\n",
       "      <td>80.0</td>\n",
       "      <td>11622</td>\n",
       "      <td>Pave</td>\n",
       "      <td>NaN</td>\n",
       "      <td>Reg</td>\n",
       "      <td>Lvl</td>\n",
       "      <td>AllPub</td>\n",
       "      <td>...</td>\n",
       "      <td>0</td>\n",
       "      <td>NaN</td>\n",
       "      <td>MnPrv</td>\n",
       "      <td>NaN</td>\n",
       "      <td>0</td>\n",
       "      <td>6</td>\n",
       "      <td>2010</td>\n",
       "      <td>WD</td>\n",
       "      <td>Normal</td>\n",
       "      <td>0.0</td>\n",
       "    </tr>\n",
       "    <tr>\n",
       "      <th>1</th>\n",
       "      <td>1462</td>\n",
       "      <td>20</td>\n",
       "      <td>RL</td>\n",
       "      <td>81.0</td>\n",
       "      <td>14267</td>\n",
       "      <td>Pave</td>\n",
       "      <td>NaN</td>\n",
       "      <td>IR1</td>\n",
       "      <td>Lvl</td>\n",
       "      <td>AllPub</td>\n",
       "      <td>...</td>\n",
       "      <td>0</td>\n",
       "      <td>NaN</td>\n",
       "      <td>NaN</td>\n",
       "      <td>Gar2</td>\n",
       "      <td>12500</td>\n",
       "      <td>6</td>\n",
       "      <td>2010</td>\n",
       "      <td>WD</td>\n",
       "      <td>Normal</td>\n",
       "      <td>0.0</td>\n",
       "    </tr>\n",
       "    <tr>\n",
       "      <th>2</th>\n",
       "      <td>1463</td>\n",
       "      <td>60</td>\n",
       "      <td>RL</td>\n",
       "      <td>74.0</td>\n",
       "      <td>13830</td>\n",
       "      <td>Pave</td>\n",
       "      <td>NaN</td>\n",
       "      <td>IR1</td>\n",
       "      <td>Lvl</td>\n",
       "      <td>AllPub</td>\n",
       "      <td>...</td>\n",
       "      <td>0</td>\n",
       "      <td>NaN</td>\n",
       "      <td>MnPrv</td>\n",
       "      <td>NaN</td>\n",
       "      <td>0</td>\n",
       "      <td>3</td>\n",
       "      <td>2010</td>\n",
       "      <td>WD</td>\n",
       "      <td>Normal</td>\n",
       "      <td>0.0</td>\n",
       "    </tr>\n",
       "    <tr>\n",
       "      <th>3</th>\n",
       "      <td>1464</td>\n",
       "      <td>60</td>\n",
       "      <td>RL</td>\n",
       "      <td>78.0</td>\n",
       "      <td>9978</td>\n",
       "      <td>Pave</td>\n",
       "      <td>NaN</td>\n",
       "      <td>IR1</td>\n",
       "      <td>Lvl</td>\n",
       "      <td>AllPub</td>\n",
       "      <td>...</td>\n",
       "      <td>0</td>\n",
       "      <td>NaN</td>\n",
       "      <td>NaN</td>\n",
       "      <td>NaN</td>\n",
       "      <td>0</td>\n",
       "      <td>6</td>\n",
       "      <td>2010</td>\n",
       "      <td>WD</td>\n",
       "      <td>Normal</td>\n",
       "      <td>0.0</td>\n",
       "    </tr>\n",
       "    <tr>\n",
       "      <th>4</th>\n",
       "      <td>1465</td>\n",
       "      <td>120</td>\n",
       "      <td>RL</td>\n",
       "      <td>43.0</td>\n",
       "      <td>5005</td>\n",
       "      <td>Pave</td>\n",
       "      <td>NaN</td>\n",
       "      <td>IR1</td>\n",
       "      <td>HLS</td>\n",
       "      <td>AllPub</td>\n",
       "      <td>...</td>\n",
       "      <td>0</td>\n",
       "      <td>NaN</td>\n",
       "      <td>NaN</td>\n",
       "      <td>NaN</td>\n",
       "      <td>0</td>\n",
       "      <td>1</td>\n",
       "      <td>2010</td>\n",
       "      <td>WD</td>\n",
       "      <td>Normal</td>\n",
       "      <td>0.0</td>\n",
       "    </tr>\n",
       "  </tbody>\n",
       "</table>\n",
       "<p>5 rows × 81 columns</p>\n",
       "</div>"
      ],
      "text/plain": [
       "     Id  MSSubClass MSZoning  LotFrontage  LotArea Street Alley LotShape  \\\n",
       "0  1461          20       RH         80.0    11622   Pave   NaN      Reg   \n",
       "1  1462          20       RL         81.0    14267   Pave   NaN      IR1   \n",
       "2  1463          60       RL         74.0    13830   Pave   NaN      IR1   \n",
       "3  1464          60       RL         78.0     9978   Pave   NaN      IR1   \n",
       "4  1465         120       RL         43.0     5005   Pave   NaN      IR1   \n",
       "\n",
       "  LandContour Utilities  ... PoolArea PoolQC  Fence MiscFeature MiscVal  \\\n",
       "0         Lvl    AllPub  ...        0    NaN  MnPrv         NaN       0   \n",
       "1         Lvl    AllPub  ...        0    NaN    NaN        Gar2   12500   \n",
       "2         Lvl    AllPub  ...        0    NaN  MnPrv         NaN       0   \n",
       "3         Lvl    AllPub  ...        0    NaN    NaN         NaN       0   \n",
       "4         HLS    AllPub  ...        0    NaN    NaN         NaN       0   \n",
       "\n",
       "  MoSold YrSold  SaleType  SaleCondition  SalePrice  \n",
       "0      6   2010        WD         Normal        0.0  \n",
       "1      6   2010        WD         Normal        0.0  \n",
       "2      3   2010        WD         Normal        0.0  \n",
       "3      6   2010        WD         Normal        0.0  \n",
       "4      1   2010        WD         Normal        0.0  \n",
       "\n",
       "[5 rows x 81 columns]"
      ]
     },
     "execution_count": 8,
     "metadata": {},
     "output_type": "execute_result"
    }
   ],
   "source": [
    "test_file = '../input/house-prices-advanced-regression-techniques/test.csv'\n",
    "test_df = pd.read_csv(test_file)\n",
    "\n",
    "print(test_df.shape)\n",
    "\n",
    "# placeholder for output column\n",
    "test_df['SalePrice'] = 0.\n",
    "\n",
    "test_df.head()"
   ]
  },
  {
   "cell_type": "code",
   "execution_count": 9,
   "id": "9baec64d",
   "metadata": {
    "execution": {
     "iopub.execute_input": "2023-11-02T15:19:54.780077Z",
     "iopub.status.busy": "2023-11-02T15:19:54.779658Z",
     "iopub.status.idle": "2023-11-02T15:19:54.883908Z",
     "shell.execute_reply": "2023-11-02T15:19:54.882647Z"
    },
    "papermill": {
     "duration": 0.116829,
     "end_time": "2023-11-02T15:19:54.886779",
     "exception": false,
     "start_time": "2023-11-02T15:19:54.769950",
     "status": "completed"
    },
    "tags": []
   },
   "outputs": [
    {
     "name": "stdout",
     "output_type": "stream",
     "text": [
      "Among them, 37 columns are categorical: ['GarageType', 'BsmtCond', 'SaleCondition', 'ExterCond', 'PavedDrive', 'LandSlope', 'GarageQual', 'Foundation', 'BsmtQual', 'Functional', 'Exterior2nd', 'Neighborhood', 'BsmtFinType1', 'BsmtFinType2', 'Condition2', 'RoofStyle', 'BsmtExposure', 'Exterior1st', 'BldgType', 'Electrical', 'GarageFinish', 'Heating', 'LotConfig', 'HouseStyle', 'LotShape', 'HeatingQC', 'GarageCond', 'KitchenQual', 'Street', 'ExterQual', 'MSZoning', 'RoofMatl', 'Utilities', 'SaleType', 'LandContour', 'Condition1', 'CentralAir']\n",
      "Total number of NaN in the datasets : GarageType       0\n",
      "OverallCond      0\n",
      "MSSubClass       0\n",
      "SaleCondition    0\n",
      "KitchenAbvGr     0\n",
      "                ..\n",
      "LandContour      0\n",
      "WoodDeckSF       0\n",
      "Condition1       0\n",
      "CentralAir       0\n",
      "SalePrice        0\n",
      "Length: 73, dtype: int64\n",
      "Total number of 0 in the datasets : GarageType         76\n",
      "OverallCond         0\n",
      "MSSubClass          0\n",
      "SaleCondition      89\n",
      "KitchenAbvGr        2\n",
      "                 ... \n",
      "LandContour        54\n",
      "WoodDeckSF        762\n",
      "Condition1         44\n",
      "CentralAir        101\n",
      "SalePrice        1459\n",
      "Length: 73, dtype: int64\n",
      "(1459,)\n",
      "1459\n"
     ]
    },
    {
     "data": {
      "text/html": [
       "<div>\n",
       "<style scoped>\n",
       "    .dataframe tbody tr th:only-of-type {\n",
       "        vertical-align: middle;\n",
       "    }\n",
       "\n",
       "    .dataframe tbody tr th {\n",
       "        vertical-align: top;\n",
       "    }\n",
       "\n",
       "    .dataframe thead th {\n",
       "        text-align: right;\n",
       "    }\n",
       "</style>\n",
       "<table border=\"1\" class=\"dataframe\">\n",
       "  <thead>\n",
       "    <tr style=\"text-align: right;\">\n",
       "      <th></th>\n",
       "      <th>Id</th>\n",
       "      <th>SalePrice</th>\n",
       "    </tr>\n",
       "  </thead>\n",
       "  <tbody>\n",
       "    <tr>\n",
       "      <th>0</th>\n",
       "      <td>1461</td>\n",
       "      <td>120416.536927</td>\n",
       "    </tr>\n",
       "    <tr>\n",
       "      <th>1</th>\n",
       "      <td>1462</td>\n",
       "      <td>159354.597330</td>\n",
       "    </tr>\n",
       "    <tr>\n",
       "      <th>2</th>\n",
       "      <td>1463</td>\n",
       "      <td>178710.877895</td>\n",
       "    </tr>\n",
       "    <tr>\n",
       "      <th>3</th>\n",
       "      <td>1464</td>\n",
       "      <td>170021.444559</td>\n",
       "    </tr>\n",
       "    <tr>\n",
       "      <th>4</th>\n",
       "      <td>1465</td>\n",
       "      <td>181354.269385</td>\n",
       "    </tr>\n",
       "  </tbody>\n",
       "</table>\n",
       "</div>"
      ],
      "text/plain": [
       "     Id      SalePrice\n",
       "0  1461  120416.536927\n",
       "1  1462  159354.597330\n",
       "2  1463  178710.877895\n",
       "3  1464  170021.444559\n",
       "4  1465  181354.269385"
      ]
     },
     "execution_count": 9,
     "metadata": {},
     "output_type": "execute_result"
    }
   ],
   "source": [
    "# apply the same cleaning/preprocessing methods to the test data\n",
    "\n",
    "# first, save id columns for output\n",
    "test_ids = test_df.pop('Id')\n",
    "\n",
    "# remove the columns unused\n",
    "test_df = pd.concat([test_df[input_cols], test_df[output_col]], axis =1) \n",
    "\n",
    "# replace any null values with zero \n",
    "test_df.fillna(0, inplace = True)\n",
    "\n",
    "# convert all columns to numerical df\n",
    "test_df1 = convert_to_all_numeric_df(test_df)\n",
    "\n",
    "# Create input and output data\n",
    "X = test_df1[input_cols].to_numpy()\n",
    "y = test_df1[output_col].to_numpy()\n",
    "\n",
    "# preprocessing input using built-in Scaler \n",
    "X_scaled = input_scaler.transform(X)\n",
    "\n",
    "# Convert data to DMatrix format for XGBoost\n",
    "dsample = xgb.DMatrix(X_scaled, label=y)\n",
    "\n",
    "# Predict\n",
    "predictions = bst.predict(dsample)\n",
    "\n",
    "print(predictions.shape)\n",
    "\n",
    "\n",
    "# convert the price from million $ to $\n",
    "predictions = [x * 1.e6 for x in predictions] \n",
    "\n",
    "print(len(predictions))\n",
    "\n",
    "\n",
    "# save the output\n",
    "output = pd.DataFrame( {'Id': test_ids,\n",
    "                       'SalePrice': predictions })\n",
    "\n",
    "output.head()"
   ]
  },
  {
   "cell_type": "code",
   "execution_count": 10,
   "id": "17e38044",
   "metadata": {
    "execution": {
     "iopub.execute_input": "2023-11-02T15:19:54.906743Z",
     "iopub.status.busy": "2023-11-02T15:19:54.905287Z",
     "iopub.status.idle": "2023-11-02T15:19:54.935937Z",
     "shell.execute_reply": "2023-11-02T15:19:54.934723Z"
    },
    "papermill": {
     "duration": 0.042999,
     "end_time": "2023-11-02T15:19:54.938341",
     "exception": false,
     "start_time": "2023-11-02T15:19:54.895342",
     "status": "completed"
    },
    "tags": []
   },
   "outputs": [
    {
     "data": {
      "text/html": [
       "<div>\n",
       "<style scoped>\n",
       "    .dataframe tbody tr th:only-of-type {\n",
       "        vertical-align: middle;\n",
       "    }\n",
       "\n",
       "    .dataframe tbody tr th {\n",
       "        vertical-align: top;\n",
       "    }\n",
       "\n",
       "    .dataframe thead th {\n",
       "        text-align: right;\n",
       "    }\n",
       "</style>\n",
       "<table border=\"1\" class=\"dataframe\">\n",
       "  <thead>\n",
       "    <tr style=\"text-align: right;\">\n",
       "      <th></th>\n",
       "      <th>Id</th>\n",
       "      <th>SalePrice</th>\n",
       "    </tr>\n",
       "  </thead>\n",
       "  <tbody>\n",
       "    <tr>\n",
       "      <th>0</th>\n",
       "      <td>1461</td>\n",
       "      <td>120416.536927</td>\n",
       "    </tr>\n",
       "    <tr>\n",
       "      <th>1</th>\n",
       "      <td>1462</td>\n",
       "      <td>159354.597330</td>\n",
       "    </tr>\n",
       "    <tr>\n",
       "      <th>2</th>\n",
       "      <td>1463</td>\n",
       "      <td>178710.877895</td>\n",
       "    </tr>\n",
       "    <tr>\n",
       "      <th>3</th>\n",
       "      <td>1464</td>\n",
       "      <td>170021.444559</td>\n",
       "    </tr>\n",
       "    <tr>\n",
       "      <th>4</th>\n",
       "      <td>1465</td>\n",
       "      <td>181354.269385</td>\n",
       "    </tr>\n",
       "  </tbody>\n",
       "</table>\n",
       "</div>"
      ],
      "text/plain": [
       "     Id      SalePrice\n",
       "0  1461  120416.536927\n",
       "1  1462  159354.597330\n",
       "2  1463  178710.877895\n",
       "3  1464  170021.444559\n",
       "4  1465  181354.269385"
      ]
     },
     "execution_count": 10,
     "metadata": {},
     "output_type": "execute_result"
    }
   ],
   "source": [
    "submit_df = pd.read_csv('../input/house-prices-advanced-regression-techniques/sample_submission.csv')\n",
    "submit_df['SalePrice'] = predictions  \n",
    "\n",
    "submit_df.to_csv('/kaggle/working/submission.csv',index=False)\n",
    "submit_df.head()"
   ]
  }
 ],
 "metadata": {
  "kernelspec": {
   "display_name": "Python 3",
   "language": "python",
   "name": "python3"
  },
  "language_info": {
   "codemirror_mode": {
    "name": "ipython",
    "version": 3
   },
   "file_extension": ".py",
   "mimetype": "text/x-python",
   "name": "python",
   "nbconvert_exporter": "python",
   "pygments_lexer": "ipython3",
   "version": "3.10.12"
  },
  "papermill": {
   "default_parameters": {},
   "duration": 8.796547,
   "end_time": "2023-11-02T15:19:55.671800",
   "environment_variables": {},
   "exception": null,
   "input_path": "__notebook__.ipynb",
   "output_path": "__notebook__.ipynb",
   "parameters": {},
   "start_time": "2023-11-02T15:19:46.875253",
   "version": "2.4.0"
  }
 },
 "nbformat": 4,
 "nbformat_minor": 5
}
